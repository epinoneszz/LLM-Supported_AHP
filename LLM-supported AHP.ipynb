{
 "cells": [
  {
   "cell_type": "code",
   "execution_count": null,
   "id": "22407868-369f-4c41-9c9e-ed8b25acdf97",
   "metadata": {},
   "outputs": [],
   "source": [
    "#Transcription of design discussion recording\n",
    "import os\n",
    "from openai import OpenAI\n",
    "\n",
    "# ⚠️ Replace with your actual API key or use environment variables for security\n",
    "client = OpenAI(\n",
    "    api_key=\"OPENAI_API_KEY\", # Recommended: set this in your environment\n",
    ")"
   ]
  },
  {
   "cell_type": "code",
   "execution_count": null,
   "id": "494bf8a0-8cef-410f-93ad-67072a6b7fc1",
   "metadata": {},
   "outputs": [],
   "source": [
    "# Load audio file (replace with your actual file path)\n",
    "\n",
    "audio_file = open(\"Discussion.mp3\", \"rb\") # ← Change this to your file name\n",
    "transcription = client.audio.transcriptions.create(\n",
    "    model=\"whisper-1\", \n",
    "    file=audio_file\n",
    ")\n",
    "print(transcription.text)\n",
    "\n",
    "# Save the transcription\n",
    "with open('transcription.txt', 'w', encoding='utf-8') as file:\n",
    "    file.write(transcription.text)"
   ]
  },
  {
   "cell_type": "code",
   "execution_count": null,
   "id": "1faf80d9-b4c6-4ecc-942e-f9e660425a47",
   "metadata": {},
   "outputs": [],
   "source": [
    "# Load transcription later if needed:\n",
    "with open('transcription.txt', 'r', encoding='utf-8') as file:\n",
    "    transcription = file.read()"
   ]
  },
  {
   "cell_type": "code",
   "execution_count": null,
   "id": "8ce9e75d-14b6-4760-bcea-2ab00aa438f9",
   "metadata": {},
   "outputs": [],
   "source": [
    "#Step 1: Define Evaluation Criteria and Weights (AHP)\n",
    "\n",
    "response = client.chat.completions.create(\n",
    "  model=\"gpt-4o\",\n",
    "  messages=[\n",
    "    {\"role\": \"system\", \"content\": \"You are an assistant specialized in analyzing design discussions for use in Analytical Hierarchy Process (AHP).\"},\n",
    "    {\"role\": \"user\", \"content\": f\"\"\"\n",
    "    Given the following design discussion transcript:\n",
    "    {transcription}\n",
    "\n",
    "    Perform these steps:\n",
    "\n",
    "    1. **Identify Evaluation Criteria:** Extract the main evaluation criteria that the discussion participants used to assess the design.\n",
    "    2. **Construct Comparison Matrix:** Create a pairwise comparison matrix for the identified criteria. Evaluate each pair of criteria based on their relative importance during the discussion, using the AHP scale (1-9, with higher numbers indicating greater importance).\n",
    "    3. **Calculate Consistency Ratio:** Calculate the consistency ratio (CR) of the comparison matrix to ensure the consistency of the pairwise comparisons. Include the final CR and discuss its validity\n",
    "    4. **Weight Criteria:** Calculate weights to each criterion based on the previous steps of the AHP analysis. Include a justification for each weight based on the discussion. \n",
    "\n",
    "    Provide the process and results of each step in a clear and organized format. \n",
    "    \"\"\"},\n",
    "  ]\n",
    ")\n",
    "\n",
    "evaluation_criteria = str(response.choices[0].message.content)\n",
    "print(response.choices[0].message.content)"
   ]
  },
  {
   "cell_type": "code",
   "execution_count": null,
   "id": "3b711b21-382f-4279-a8f8-63ae4915bd80",
   "metadata": {},
   "outputs": [],
   "source": [
    "# Definition of values for evaluation criteria and final recomendation\n",
    "response = client.chat.completions.create(\n",
    "  model=\"gpt-4o\",\n",
    "  messages=[\n",
    "    {\"role\": \"system\", \"content\": \"You are an assistant specialized in analyzing design discussions.\"},\n",
    "    {\"role\": \"user\", \"content\": f\"Here is a design discussion transcription: {transcription} and an definition of the evaluation criteria using AHP {evaluation_criteria}. Based on the discussion assign a corresponding value (1 to 10) for each criteria of the products (justify the answer), and propose which alternative is better using AHP indicating their total rates\"},\n",
    "      ]\n",
    ")\n",
    "finalrecomendation = str(response.choices[0].message.content)\n",
    "print(response.choices[0].message.content)"
   ]
  },
  {
   "cell_type": "code",
   "execution_count": null,
   "id": "4ff3a0e1-af88-455a-995a-195a1cfae1ac",
   "metadata": {},
   "outputs": [],
   "source": [
    "# Report generation\n",
    "response = client.chat.completions.create(\n",
    "  model=\"gpt-4o\",\n",
    "  messages=[\n",
    "    {\"role\": \"system\", \"content\": \"You are a technical writer specializing in creating detailed analytical reports.\"},\n",
    "    {\"role\": \"user\", \"content\": f\"Using the following design discussion transcription: {transcription}, the defined evaluation criteria and weights: {evaluation_criteria}, and the assigned values and final recommendation: {finalrecomendation}, generate a well-structured report. The report should include an executive summary, a detailed explanation of the AHP process, the consistency ratio calculation, the assigned values for each criterion with justification, the final ratings for alternatives, and the proposed recommendation. Ensure the report is clear and professional. Use Markdown formatting\"},\n",
    "      ]\n",
    ")\n",
    "report = str(response.choices[0].message.content)\n",
    "print(response.choices[0].message.content)"
   ]
  },
  {
   "cell_type": "code",
   "execution_count": null,
   "id": "f691fea4-65f6-46ae-a991-84ab78acc969",
   "metadata": {},
   "outputs": [],
   "source": []
  }
 ],
 "metadata": {
  "kernelspec": {
   "display_name": "Python 3 (ipykernel)",
   "language": "python",
   "name": "python3"
  },
  "language_info": {
   "codemirror_mode": {
    "name": "ipython",
    "version": 3
   },
   "file_extension": ".py",
   "mimetype": "text/x-python",
   "name": "python",
   "nbconvert_exporter": "python",
   "pygments_lexer": "ipython3",
   "version": "3.9.21"
  }
 },
 "nbformat": 4,
 "nbformat_minor": 5
}
